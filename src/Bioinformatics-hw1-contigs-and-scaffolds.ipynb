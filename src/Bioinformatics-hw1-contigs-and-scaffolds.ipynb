{
 "cells": [
  {
   "cell_type": "markdown",
   "metadata": {},
   "source": [
    "### Анализ контигов"
   ]
  },
  {
   "cell_type": "code",
   "execution_count": 33,
   "metadata": {},
   "outputs": [],
   "source": [
    "def analyse_contigs(filename):\n",
    "    contig_file = open(filename, \"r\")\n",
    "    contigs = []\n",
    "    names = []\n",
    "    lines = contig_file.readlines()\n",
    "    cur = \"\"\n",
    "    for line in lines:\n",
    "        if (line[0] == '>'):\n",
    "            if (cur != \"\"):\n",
    "                contigs.append(cur)\n",
    "                cur = \"\"\n",
    "            names.append(line.rstrip())\n",
    "        else:\n",
    "            cur += line.rstrip()\n",
    "    contigs.append(cur)\n",
    "    \n",
    "    contig_len = [len(t) for t in contigs]\n",
    "    \n",
    "    numContigs = len(contigs)\n",
    "    maxContig = max(contig_len)\n",
    "    sumContig = sum(contig_len)\n",
    "    \n",
    "    contig_len.sort(reverse=True)\n",
    "\n",
    "    cur = 0\n",
    "    N50 = -1\n",
    "\n",
    "    for elem in contig_len:\n",
    "        cur += elem\n",
    "        if (cur * 2 >= sumContig):\n",
    "            N50 = elem\n",
    "            break\n",
    "    return numContigs, maxContig, sumContig, N50\n",
    "    "
   ]
  },
  {
   "cell_type": "markdown",
   "metadata": {},
   "source": [
    "Проанализируем контиги, построенные из обрезанных чтений"
   ]
  },
  {
   "cell_type": "code",
   "execution_count": 34,
   "metadata": {},
   "outputs": [],
   "source": [
    "res = analyse_contigs(\"out_contig.fa\")"
   ]
  },
  {
   "cell_type": "code",
   "execution_count": 36,
   "metadata": {},
   "outputs": [
    {
     "name": "stdout",
     "output_type": "stream",
     "text": [
      "Кол-во контигов: 599\n",
      "Длина самого большого контига: 179307\n",
      "Суммарная длина контигов: 3924360\n",
      "N50: 52799\n"
     ]
    }
   ],
   "source": [
    "print(\"Кол-во контигов:\", res[0])\n",
    "print(\"Длина самого большого контига:\", res[1])\n",
    "print(\"Суммарная длина контигов:\", res[2])\n",
    "print(\"N50:\", res[3])"
   ]
  },
  {
   "cell_type": "markdown",
   "metadata": {},
   "source": [
    "### Анализ скаффолдов"
   ]
  },
  {
   "cell_type": "code",
   "execution_count": 77,
   "metadata": {},
   "outputs": [],
   "source": [
    "scaf_file = open(\"out_scaffold.fa\", \"r\")"
   ]
  },
  {
   "cell_type": "code",
   "execution_count": 80,
   "metadata": {},
   "outputs": [],
   "source": [
    "def analyse_scaffolds(filename, getlongest=False):\n",
    "    scaf_file = open(filename, \"r\")\n",
    "    scaf = []\n",
    "    names = []\n",
    "    lines = scaf_file.readlines()\n",
    "    cur = \"\"\n",
    "    for line in lines:\n",
    "        if (line[0] == '>'):\n",
    "            if (cur != \"\"):\n",
    "                scaf.append(cur)\n",
    "                cur = \"\"\n",
    "            names.append(line.rstrip())\n",
    "        else:\n",
    "            cur += line.rstrip()\n",
    "    scaf.append(cur)\n",
    "    \n",
    "    numScaf = len(scaf)\n",
    "    scaf_len = [len(t) for t in scaf]\n",
    "    maxScaf = max(scaf_len)\n",
    "    sumScaf = sum(scaf_len)\n",
    "    \n",
    "    cur = 0\n",
    "    N50 = -1\n",
    "\n",
    "    for elem in scaf_len:\n",
    "        cur += elem\n",
    "        if (cur * 2 >= sumScaf):\n",
    "            N50 = elem\n",
    "            break\n",
    "            \n",
    "    maxind = scaf_len.index(max(scaf_len))\n",
    "    gapLen = scaf[maxind].count('N')\n",
    "\n",
    "    if (getlongest):\n",
    "        f_w = open(\"longest.fasta\", \"w\")\n",
    "        f_w.write(names[maxind])\n",
    "        f_w.write(\"\\n\")\n",
    "        f_w.write(scaf[maxind])\n",
    "        f_w.close()\n",
    "    \n",
    "    cntGap = 0\n",
    "    flag = 0\n",
    "    for c in scaf[maxind]:\n",
    "        if (c == 'N'):\n",
    "            flag = 1\n",
    "        elif (flag == 1):\n",
    "            cntGap += 1\n",
    "            flag = 0\n",
    "    cntGap += flag\n",
    "    \n",
    "    return numScaf, maxScaf, sumScaf, N50, gapLen, cntGap\n",
    "    \n",
    "    "
   ]
  },
  {
   "cell_type": "code",
   "execution_count": 79,
   "metadata": {},
   "outputs": [
    {
     "name": "stdout",
     "output_type": "stream",
     "text": [
      "Кол-во скаффолдов: 95\n",
      "Длина самого большого скаффолда: 383583\n",
      "Суммарная длина скаффолдов: 3869647\n",
      "N50: 192065\n",
      "Суммарная длина гэпов в самом длинном скаффолде: 26\n",
      "Количество гэпов в самом длинном скаффолде: 2\n"
     ]
    }
   ],
   "source": [
    "res = analyse_scaffolds(\"out_scaffold.fa\")\n",
    "print(\"Кол-во скаффолдов:\", res[0])\n",
    "print(\"Длина самого большого скаффолда:\", res[1])\n",
    "print(\"Суммарная длина скаффолдов:\", res[2])\n",
    "print(\"N50:\", res[3])\n",
    "print(\"Суммарная длина гэпов в самом длинном скаффолде:\", res[4])\n",
    "print(\"Количество гэпов в самом длинном скаффолде:\", res[5])"
   ]
  },
  {
   "cell_type": "markdown",
   "metadata": {},
   "source": [
    "После того, как уменьшили гэпы:"
   ]
  },
  {
   "cell_type": "code",
   "execution_count": 81,
   "metadata": {},
   "outputs": [
    {
     "name": "stdout",
     "output_type": "stream",
     "text": [
      "Кол-во скаффолдов: 95\n",
      "Длина самого большого скаффолда: 383574\n",
      "Суммарная длина скаффолдов: 3869747\n",
      "N50: 192065\n",
      "Суммарная длина гэпов в самом длинном скаффолде: 0\n",
      "Количество гэпов в самом длинном скаффолде: 0\n"
     ]
    }
   ],
   "source": [
    "res = analyse_scaffolds(\"out_gapClosed.fa\", True)\n",
    "print(\"Кол-во скаффолдов:\", res[0])\n",
    "print(\"Длина самого большого скаффолда:\", res[1])\n",
    "print(\"Суммарная длина скаффолдов:\", res[2])\n",
    "print(\"N50:\", res[3])\n",
    "print(\"Суммарная длина гэпов в самом длинном скаффолде:\", res[4])\n",
    "print(\"Количество гэпов в самом длинном скаффолде:\", res[5])"
   ]
  },
  {
   "cell_type": "markdown",
   "metadata": {},
   "source": [
    "### Бонус\n",
    "Проделаем те же операции для меньшего числа чтений 1000000 для pair-ended и 300000 для mate-pairs"
   ]
  },
  {
   "cell_type": "code",
   "execution_count": 74,
   "metadata": {},
   "outputs": [
    {
     "name": "stdout",
     "output_type": "stream",
     "text": [
      "Кол-во контигов: 1277\n",
      "Длина самого большого контига: 187087\n",
      "Суммарная длина контигов: 3913898\n",
      "N50: 67003\n"
     ]
    }
   ],
   "source": [
    "res = analyse_contigs(\"small/out_contig.fa\")\n",
    "print(\"Кол-во контигов:\", res[0])\n",
    "print(\"Длина самого большого контига:\", res[1])\n",
    "print(\"Суммарная длина контигов:\", res[2])\n",
    "print(\"N50:\", res[3])"
   ]
  },
  {
   "cell_type": "code",
   "execution_count": 75,
   "metadata": {},
   "outputs": [
    {
     "name": "stdout",
     "output_type": "stream",
     "text": [
      "Кол-во скаффолдов: 192\n",
      "Длина самого большого скаффолда: 263704\n",
      "Суммарная длина скаффолдов: 3846802\n",
      "N50: 169808\n",
      "Суммарная длина гэпов в самом длинном скаффолде: 140\n",
      "Количество гэпов в самом длинном скаффолде: 6\n"
     ]
    }
   ],
   "source": [
    "res = analyse_scaffolds(\"small/out_scaffold.fa\")\n",
    "print(\"Кол-во скаффолдов:\", res[0])\n",
    "print(\"Длина самого большого скаффолда:\", res[1])\n",
    "print(\"Суммарная длина скаффолдов:\", res[2])\n",
    "print(\"N50:\", res[3])\n",
    "print(\"Суммарная длина гэпов в самом длинном скаффолде:\", res[4])\n",
    "print(\"Количество гэпов в самом длинном скаффолде:\", res[5])"
   ]
  },
  {
   "cell_type": "code",
   "execution_count": 76,
   "metadata": {},
   "outputs": [
    {
     "name": "stdout",
     "output_type": "stream",
     "text": [
      "Кол-во скаффолдов: 192\n",
      "Длина самого большого скаффолда: 263594\n",
      "Суммарная длина скаффолдов: 3846324\n",
      "N50: 169818\n",
      "Суммарная длина гэпов в самом длинном скаффолде: 0\n",
      "Количество гэпов в самом длинном скаффолде: 0\n"
     ]
    }
   ],
   "source": [
    "res = analyse_scaffolds(\"small/out_gapClosed.fa\")\n",
    "print(\"Кол-во скаффолдов:\", res[0])\n",
    "print(\"Длина самого большого скаффолда:\", res[1])\n",
    "print(\"Суммарная длина скаффолдов:\", res[2])\n",
    "print(\"N50:\", res[3])\n",
    "print(\"Суммарная длина гэпов в самом длинном скаффолде:\", res[4])\n",
    "print(\"Количество гэпов в самом длинном скаффолде:\", res[5])"
   ]
  }
 ],
 "metadata": {
  "kernelspec": {
   "display_name": "Python 3",
   "language": "python",
   "name": "python3"
  },
  "language_info": {
   "codemirror_mode": {
    "name": "ipython",
    "version": 3
   },
   "file_extension": ".py",
   "mimetype": "text/x-python",
   "name": "python",
   "nbconvert_exporter": "python",
   "pygments_lexer": "ipython3",
   "version": "3.7.3"
  }
 },
 "nbformat": 4,
 "nbformat_minor": 2
}
